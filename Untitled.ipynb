{
 "cells": [
  {
   "cell_type": "code",
   "execution_count": 301,
   "id": "4cab7f96-045d-4d01-a11d-e8935bda4565",
   "metadata": {},
   "outputs": [],
   "source": [
    "import pandas as pd\n",
    "import seaborn as sns\n",
    "import matplotlib.pyplot as plt\n",
    "import numpy as np"
   ]
  },
  {
   "cell_type": "code",
   "execution_count": 3,
   "id": "00b61182-5ac0-4c04-85ab-2370fc3e6078",
   "metadata": {},
   "outputs": [
    {
     "data": {
      "text/html": [
       "<div>\n",
       "<style scoped>\n",
       "    .dataframe tbody tr th:only-of-type {\n",
       "        vertical-align: middle;\n",
       "    }\n",
       "\n",
       "    .dataframe tbody tr th {\n",
       "        vertical-align: top;\n",
       "    }\n",
       "\n",
       "    .dataframe thead th {\n",
       "        text-align: right;\n",
       "    }\n",
       "</style>\n",
       "<table border=\"1\" class=\"dataframe\">\n",
       "  <thead>\n",
       "    <tr style=\"text-align: right;\">\n",
       "      <th></th>\n",
       "      <th>flight date</th>\n",
       "      <th>airline</th>\n",
       "      <th>flight_num</th>\n",
       "      <th>class</th>\n",
       "      <th>from</th>\n",
       "      <th>dep_time</th>\n",
       "      <th>to</th>\n",
       "      <th>arr_time</th>\n",
       "      <th>duration</th>\n",
       "      <th>price</th>\n",
       "      <th>stops</th>\n",
       "      <th>Unnamed: 11</th>\n",
       "      <th>Unnamed: 12</th>\n",
       "    </tr>\n",
       "  </thead>\n",
       "  <tbody>\n",
       "    <tr>\n",
       "      <th>0</th>\n",
       "      <td>26-06-2023</td>\n",
       "      <td>SpiceJet</td>\n",
       "      <td>SG-8709</td>\n",
       "      <td>economy</td>\n",
       "      <td>Delhi</td>\n",
       "      <td>18:55</td>\n",
       "      <td>Mumbai</td>\n",
       "      <td>21:05</td>\n",
       "      <td>02h 10m</td>\n",
       "      <td>6,013</td>\n",
       "      <td>non-stop</td>\n",
       "      <td>NaN</td>\n",
       "      <td>NaN</td>\n",
       "    </tr>\n",
       "    <tr>\n",
       "      <th>1</th>\n",
       "      <td>26-06-2023</td>\n",
       "      <td>SpiceJet</td>\n",
       "      <td>SG-8157</td>\n",
       "      <td>economy</td>\n",
       "      <td>Delhi</td>\n",
       "      <td>06:20</td>\n",
       "      <td>Mumbai</td>\n",
       "      <td>08:40</td>\n",
       "      <td>02h 20m</td>\n",
       "      <td>6,013</td>\n",
       "      <td>non-stop</td>\n",
       "      <td>NaN</td>\n",
       "      <td>NaN</td>\n",
       "    </tr>\n",
       "    <tr>\n",
       "      <th>2</th>\n",
       "      <td>26-06-2023</td>\n",
       "      <td>AirAsia</td>\n",
       "      <td>I5-764</td>\n",
       "      <td>economy</td>\n",
       "      <td>Delhi</td>\n",
       "      <td>04:25</td>\n",
       "      <td>Mumbai</td>\n",
       "      <td>06:35</td>\n",
       "      <td>02h 10m</td>\n",
       "      <td>6,016</td>\n",
       "      <td>non-stop</td>\n",
       "      <td>NaN</td>\n",
       "      <td>NaN</td>\n",
       "    </tr>\n",
       "    <tr>\n",
       "      <th>3</th>\n",
       "      <td>26-06-2023</td>\n",
       "      <td>Vistara</td>\n",
       "      <td>UK-995</td>\n",
       "      <td>economy</td>\n",
       "      <td>Delhi</td>\n",
       "      <td>10:20</td>\n",
       "      <td>Mumbai</td>\n",
       "      <td>12:35</td>\n",
       "      <td>02h 15m</td>\n",
       "      <td>6,015</td>\n",
       "      <td>non-stop</td>\n",
       "      <td>NaN</td>\n",
       "      <td>NaN</td>\n",
       "    </tr>\n",
       "    <tr>\n",
       "      <th>4</th>\n",
       "      <td>26-06-2023</td>\n",
       "      <td>Vistara</td>\n",
       "      <td>UK-963</td>\n",
       "      <td>economy</td>\n",
       "      <td>Delhi</td>\n",
       "      <td>08:50</td>\n",
       "      <td>Mumbai</td>\n",
       "      <td>11:10</td>\n",
       "      <td>02h 20m</td>\n",
       "      <td>6,015</td>\n",
       "      <td>non-stop</td>\n",
       "      <td>NaN</td>\n",
       "      <td>NaN</td>\n",
       "    </tr>\n",
       "  </tbody>\n",
       "</table>\n",
       "</div>"
      ],
      "text/plain": [
       "  flight date   airline flight_num    class   from dep_time      to arr_time  \\\n",
       "0  26-06-2023  SpiceJet    SG-8709  economy  Delhi    18:55  Mumbai    21:05   \n",
       "1  26-06-2023  SpiceJet    SG-8157  economy  Delhi    06:20  Mumbai    08:40   \n",
       "2  26-06-2023   AirAsia     I5-764  economy  Delhi    04:25  Mumbai    06:35   \n",
       "3  26-06-2023   Vistara     UK-995  economy  Delhi    10:20  Mumbai    12:35   \n",
       "4  26-06-2023   Vistara     UK-963  economy  Delhi    08:50  Mumbai    11:10   \n",
       "\n",
       "  duration  price     stops  Unnamed: 11  Unnamed: 12  \n",
       "0  02h 10m  6,013  non-stop          NaN          NaN  \n",
       "1  02h 20m  6,013  non-stop          NaN          NaN  \n",
       "2  02h 10m  6,016  non-stop          NaN          NaN  \n",
       "3  02h 15m  6,015  non-stop          NaN          NaN  \n",
       "4  02h 20m  6,015  non-stop          NaN          NaN  "
      ]
     },
     "execution_count": 3,
     "metadata": {},
     "output_type": "execute_result"
    }
   ],
   "source": [
    "data=pd.read_csv(\"goibibo_flights_data.csv\")\n",
    "data.head()"
   ]
  },
  {
   "cell_type": "markdown",
   "id": "58c069dd-bea0-4424-bf83-f9509ea34628",
   "metadata": {},
   "source": [
    "# Cleaning the Dataset"
   ]
  },
  {
   "cell_type": "code",
   "execution_count": 4,
   "id": "1884b000-778c-4a9e-bb22-cf721fab81ca",
   "metadata": {},
   "outputs": [
    {
     "data": {
      "text/plain": [
       "flight date         0\n",
       "airline             0\n",
       "flight_num          0\n",
       "class               0\n",
       "from                0\n",
       "dep_time            0\n",
       "to                  0\n",
       "arr_time            0\n",
       "duration            0\n",
       "price               0\n",
       "stops               0\n",
       "Unnamed: 11    300261\n",
       "Unnamed: 12    300261\n",
       "dtype: int64"
      ]
     },
     "execution_count": 4,
     "metadata": {},
     "output_type": "execute_result"
    }
   ],
   "source": [
    "# checking null values\n",
    "data.isnull().sum()"
   ]
  },
  {
   "cell_type": "code",
   "execution_count": 8,
   "id": "d3aa6691-00b3-4d73-9827-57f6625530a7",
   "metadata": {},
   "outputs": [
    {
     "name": "stdout",
     "output_type": "stream",
     "text": [
      "<class 'pandas.core.frame.DataFrame'>\n",
      "RangeIndex: 300261 entries, 0 to 300260\n",
      "Data columns (total 13 columns):\n",
      " #   Column       Non-Null Count   Dtype  \n",
      "---  ------       --------------   -----  \n",
      " 0   flight date  300261 non-null  object \n",
      " 1   airline      300261 non-null  object \n",
      " 2   flight_num   300261 non-null  object \n",
      " 3   class        300261 non-null  object \n",
      " 4   from         300261 non-null  object \n",
      " 5   dep_time     300261 non-null  object \n",
      " 6   to           300261 non-null  object \n",
      " 7   arr_time     300261 non-null  object \n",
      " 8   duration     300261 non-null  object \n",
      " 9   price        300261 non-null  object \n",
      " 10  stops        300261 non-null  object \n",
      " 11  Unnamed: 11  0 non-null       float64\n",
      " 12  Unnamed: 12  0 non-null       float64\n",
      "dtypes: float64(2), object(11)\n",
      "memory usage: 29.8+ MB\n"
     ]
    }
   ],
   "source": [
    "# there are two column which are unamed let's check these columns\n",
    "data.info()"
   ]
  },
  {
   "cell_type": "code",
   "execution_count": 11,
   "id": "bc0f224b-e147-4ecc-912e-ca40ad45ea45",
   "metadata": {},
   "outputs": [
    {
     "data": {
      "text/plain": [
       "Index(['flight date', 'airline', 'flight_num', 'class', 'from', 'dep_time',\n",
       "       'to', 'arr_time', 'duration', 'price', 'stops', 'Unnamed: 11',\n",
       "       'Unnamed: 12'],\n",
       "      dtype='object')"
      ]
     },
     "execution_count": 11,
     "metadata": {},
     "output_type": "execute_result"
    }
   ],
   "source": [
    "data.columns"
   ]
  },
  {
   "cell_type": "code",
   "execution_count": 13,
   "id": "8900b335-4283-4c41-a506-f493b6b7bcfa",
   "metadata": {},
   "outputs": [
    {
     "data": {
      "text/plain": [
       "0        NaN\n",
       "1        NaN\n",
       "2        NaN\n",
       "3        NaN\n",
       "4        NaN\n",
       "          ..\n",
       "300256   NaN\n",
       "300257   NaN\n",
       "300258   NaN\n",
       "300259   NaN\n",
       "300260   NaN\n",
       "Name: Unnamed: 12, Length: 300261, dtype: float64"
      ]
     },
     "execution_count": 13,
     "metadata": {},
     "output_type": "execute_result"
    }
   ],
   "source": [
    "data[\"Unnamed: 12\"]"
   ]
  },
  {
   "cell_type": "code",
   "execution_count": 22,
   "id": "5d98463e-38a6-4854-9010-ba9d5fa88670",
   "metadata": {},
   "outputs": [],
   "source": [
    "# these column are empty so we gonna delete that columns\n",
    "data.drop(\"Unnamed: 12\",inplace=True,axis=1)\n",
    "data.drop(\"Unnamed: 11\",inplace=True,axis=1)\n"
   ]
  },
  {
   "cell_type": "code",
   "execution_count": 23,
   "id": "c91b9753-902d-49f3-b9d5-fa7394c7bf9e",
   "metadata": {},
   "outputs": [
    {
     "data": {
      "text/plain": [
       "flight date    0\n",
       "airline        0\n",
       "flight_num     0\n",
       "class          0\n",
       "from           0\n",
       "dep_time       0\n",
       "to             0\n",
       "arr_time       0\n",
       "duration       0\n",
       "price          0\n",
       "stops          0\n",
       "dtype: int64"
      ]
     },
     "execution_count": 23,
     "metadata": {},
     "output_type": "execute_result"
    }
   ],
   "source": [
    "data.isnull().sum()"
   ]
  },
  {
   "cell_type": "code",
   "execution_count": 27,
   "id": "3833f0c3-0427-4e66-a67f-a2e01644c1fe",
   "metadata": {},
   "outputs": [
    {
     "data": {
      "text/plain": [
       "np.int64(2)"
      ]
     },
     "execution_count": 27,
     "metadata": {},
     "output_type": "execute_result"
    }
   ],
   "source": [
    "# so there is no null values let's check the duplicated valies\n",
    "data.duplicated().sum()"
   ]
  },
  {
   "cell_type": "code",
   "execution_count": 28,
   "id": "ba6860e6-a4ea-4998-9c70-edd3a2bdcf97",
   "metadata": {},
   "outputs": [],
   "source": [
    "# let's drop duplicates\n",
    "data.drop_duplicates(inplace=True)"
   ]
  },
  {
   "cell_type": "code",
   "execution_count": 29,
   "id": "78ca5140-b925-452e-bbc9-5e46242324c1",
   "metadata": {},
   "outputs": [
    {
     "data": {
      "text/plain": [
       "np.int64(0)"
      ]
     },
     "execution_count": 29,
     "metadata": {},
     "output_type": "execute_result"
    }
   ],
   "source": [
    "data.duplicated().sum()\n",
    "# now we have 0 duplicated let's do"
   ]
  },
  {
   "cell_type": "markdown",
   "id": "515a39f3-d133-4cc1-b539-26fcd26b405a",
   "metadata": {},
   "source": [
    " # EXPLOROTORY DATA ANALYSIS"
   ]
  },
  {
   "cell_type": "code",
   "execution_count": 30,
   "id": "803a7a80-a6aa-4525-baf0-6db88acd7399",
   "metadata": {},
   "outputs": [
    {
     "data": {
      "text/plain": [
       "(300259, 11)"
      ]
     },
     "execution_count": 30,
     "metadata": {},
     "output_type": "execute_result"
    }
   ],
   "source": [
    "# Checking number of column and rows in dataset\n",
    "data.shape"
   ]
  },
  {
   "cell_type": "code",
   "execution_count": 31,
   "id": "0bcf38df-977c-407c-92e1-af71c91d3ebb",
   "metadata": {},
   "outputs": [
    {
     "data": {
      "text/html": [
       "<div>\n",
       "<style scoped>\n",
       "    .dataframe tbody tr th:only-of-type {\n",
       "        vertical-align: middle;\n",
       "    }\n",
       "\n",
       "    .dataframe tbody tr th {\n",
       "        vertical-align: top;\n",
       "    }\n",
       "\n",
       "    .dataframe thead th {\n",
       "        text-align: right;\n",
       "    }\n",
       "</style>\n",
       "<table border=\"1\" class=\"dataframe\">\n",
       "  <thead>\n",
       "    <tr style=\"text-align: right;\">\n",
       "      <th></th>\n",
       "      <th>flight date</th>\n",
       "      <th>airline</th>\n",
       "      <th>flight_num</th>\n",
       "      <th>class</th>\n",
       "      <th>from</th>\n",
       "      <th>dep_time</th>\n",
       "      <th>to</th>\n",
       "      <th>arr_time</th>\n",
       "      <th>duration</th>\n",
       "      <th>price</th>\n",
       "      <th>stops</th>\n",
       "    </tr>\n",
       "  </thead>\n",
       "  <tbody>\n",
       "    <tr>\n",
       "      <th>0</th>\n",
       "      <td>26-06-2023</td>\n",
       "      <td>SpiceJet</td>\n",
       "      <td>SG-8709</td>\n",
       "      <td>economy</td>\n",
       "      <td>Delhi</td>\n",
       "      <td>18:55</td>\n",
       "      <td>Mumbai</td>\n",
       "      <td>21:05</td>\n",
       "      <td>02h 10m</td>\n",
       "      <td>6,013</td>\n",
       "      <td>non-stop</td>\n",
       "    </tr>\n",
       "    <tr>\n",
       "      <th>1</th>\n",
       "      <td>26-06-2023</td>\n",
       "      <td>SpiceJet</td>\n",
       "      <td>SG-8157</td>\n",
       "      <td>economy</td>\n",
       "      <td>Delhi</td>\n",
       "      <td>06:20</td>\n",
       "      <td>Mumbai</td>\n",
       "      <td>08:40</td>\n",
       "      <td>02h 20m</td>\n",
       "      <td>6,013</td>\n",
       "      <td>non-stop</td>\n",
       "    </tr>\n",
       "    <tr>\n",
       "      <th>2</th>\n",
       "      <td>26-06-2023</td>\n",
       "      <td>AirAsia</td>\n",
       "      <td>I5-764</td>\n",
       "      <td>economy</td>\n",
       "      <td>Delhi</td>\n",
       "      <td>04:25</td>\n",
       "      <td>Mumbai</td>\n",
       "      <td>06:35</td>\n",
       "      <td>02h 10m</td>\n",
       "      <td>6,016</td>\n",
       "      <td>non-stop</td>\n",
       "    </tr>\n",
       "  </tbody>\n",
       "</table>\n",
       "</div>"
      ],
      "text/plain": [
       "  flight date   airline flight_num    class   from dep_time      to arr_time  \\\n",
       "0  26-06-2023  SpiceJet    SG-8709  economy  Delhi    18:55  Mumbai    21:05   \n",
       "1  26-06-2023  SpiceJet    SG-8157  economy  Delhi    06:20  Mumbai    08:40   \n",
       "2  26-06-2023   AirAsia     I5-764  economy  Delhi    04:25  Mumbai    06:35   \n",
       "\n",
       "  duration  price     stops  \n",
       "0  02h 10m  6,013  non-stop  \n",
       "1  02h 20m  6,013  non-stop  \n",
       "2  02h 10m  6,016  non-stop  "
      ]
     },
     "execution_count": 31,
     "metadata": {},
     "output_type": "execute_result"
    }
   ],
   "source": [
    "# Transformation data \n",
    "data.head(3)"
   ]
  },
  {
   "cell_type": "code",
   "execution_count": 36,
   "id": "8dab39e2-40fc-4f18-9f3c-1f33489c4602",
   "metadata": {},
   "outputs": [
    {
     "data": {
      "text/plain": [
       "str"
      ]
     },
     "execution_count": 36,
     "metadata": {},
     "output_type": "execute_result"
    }
   ],
   "source": [
    "# to calculate Total flight duration by Airline we have to convert duration column into whole/decimal number\n",
    "type(data.duration[0])"
   ]
  },
  {
   "cell_type": "code",
   "execution_count": 55,
   "id": "9f0a811b-5248-4d25-b686-f11956f4a8b7",
   "metadata": {},
   "outputs": [],
   "source": [
    "# we have replace h with . and m with empty space in order get number value\n",
    "def transform_duration(duration):\n",
    "    duration=duration.replace('h','.')\n",
    "    duration=duration.replace('m','')\n",
    "    duration=duration.replace(' ','')\n",
    "    uration = duration.rstrip('.')\n",
    "    return duration\n",
    "data['duration']=data['duration'].map(transform_duration)"
   ]
  },
  {
   "cell_type": "code",
   "execution_count": 56,
   "id": "8479340e-e3b8-4838-a4d7-36299707582d",
   "metadata": {},
   "outputs": [
    {
     "data": {
      "text/plain": [
       "0         02.10\n",
       "1         02.20\n",
       "2         02.10\n",
       "3         02.15\n",
       "4         02.20\n",
       "          ...  \n",
       "300256    10.05\n",
       "300257    10.25\n",
       "300258    13.50\n",
       "300259    10.00\n",
       "300260    10.05\n",
       "Name: duration, Length: 300259, dtype: object"
      ]
     },
     "execution_count": 56,
     "metadata": {},
     "output_type": "execute_result"
    }
   ],
   "source": [
    "data.duration"
   ]
  },
  {
   "cell_type": "code",
   "execution_count": 60,
   "id": "7b811c95-594b-45c6-9bbb-6fa18c04b7e5",
   "metadata": {},
   "outputs": [],
   "source": [
    "# now change string to decimal\n",
    "data.duration=pd.to_numeric(data[\"duration\"],errors='coerce')\n",
    "data.duration=data[\"duration\"].astype(float)"
   ]
  },
  {
   "cell_type": "code",
   "execution_count": 63,
   "id": "4d615c4a-2d8b-4086-8c66-221c2d294b2b",
   "metadata": {},
   "outputs": [
    {
     "data": {
      "text/plain": [
       "np.int64(4)"
      ]
     },
     "execution_count": 63,
     "metadata": {},
     "output_type": "execute_result"
    }
   ],
   "source": [
    "# there are total 4 null values\n",
    "data.duration.isnull().sum()"
   ]
  },
  {
   "cell_type": "code",
   "execution_count": 74,
   "id": "f9c1f67c-0eba-4536-9aad-4121e0b3d9a4",
   "metadata": {},
   "outputs": [],
   "source": [
    "# let's fill it with mean of all values\n",
    "# before that we have to check any oulier present or not beaacause outlier affect the mean \n",
    "data.duration.min()\n",
    "data.duration.max()\n",
    "data.duration.fillna(data.duration.mean(),inplace=True)\n"
   ]
  },
  {
   "cell_type": "code",
   "execution_count": 75,
   "id": "15a083cc-af55-4bfc-8903-8114a7e2755b",
   "metadata": {},
   "outputs": [
    {
     "data": {
      "text/plain": [
       "flight date    0\n",
       "airline        0\n",
       "flight_num     0\n",
       "class          0\n",
       "from           0\n",
       "dep_time       0\n",
       "to             0\n",
       "arr_time       0\n",
       "duration       0\n",
       "price          0\n",
       "stops          0\n",
       "dtype: int64"
      ]
     },
     "execution_count": 75,
     "metadata": {},
     "output_type": "execute_result"
    }
   ],
   "source": [
    "data.isnull().sum()"
   ]
  },
  {
   "cell_type": "code",
   "execution_count": 76,
   "id": "9588da73-bf95-40e1-b7eb-97fe6cb0ec64",
   "metadata": {},
   "outputs": [
    {
     "data": {
      "text/html": [
       "<div>\n",
       "<style scoped>\n",
       "    .dataframe tbody tr th:only-of-type {\n",
       "        vertical-align: middle;\n",
       "    }\n",
       "\n",
       "    .dataframe tbody tr th {\n",
       "        vertical-align: top;\n",
       "    }\n",
       "\n",
       "    .dataframe thead th {\n",
       "        text-align: right;\n",
       "    }\n",
       "</style>\n",
       "<table border=\"1\" class=\"dataframe\">\n",
       "  <thead>\n",
       "    <tr style=\"text-align: right;\">\n",
       "      <th></th>\n",
       "      <th>flight date</th>\n",
       "      <th>airline</th>\n",
       "      <th>flight_num</th>\n",
       "      <th>class</th>\n",
       "      <th>from</th>\n",
       "      <th>dep_time</th>\n",
       "      <th>to</th>\n",
       "      <th>arr_time</th>\n",
       "      <th>duration</th>\n",
       "      <th>price</th>\n",
       "      <th>stops</th>\n",
       "    </tr>\n",
       "  </thead>\n",
       "  <tbody>\n",
       "    <tr>\n",
       "      <th>0</th>\n",
       "      <td>26-06-2023</td>\n",
       "      <td>SpiceJet</td>\n",
       "      <td>SG-8709</td>\n",
       "      <td>economy</td>\n",
       "      <td>Delhi</td>\n",
       "      <td>18:55</td>\n",
       "      <td>Mumbai</td>\n",
       "      <td>21:05</td>\n",
       "      <td>2.1</td>\n",
       "      <td>6,013</td>\n",
       "      <td>non-stop</td>\n",
       "    </tr>\n",
       "    <tr>\n",
       "      <th>1</th>\n",
       "      <td>26-06-2023</td>\n",
       "      <td>SpiceJet</td>\n",
       "      <td>SG-8157</td>\n",
       "      <td>economy</td>\n",
       "      <td>Delhi</td>\n",
       "      <td>06:20</td>\n",
       "      <td>Mumbai</td>\n",
       "      <td>08:40</td>\n",
       "      <td>2.2</td>\n",
       "      <td>6,013</td>\n",
       "      <td>non-stop</td>\n",
       "    </tr>\n",
       "  </tbody>\n",
       "</table>\n",
       "</div>"
      ],
      "text/plain": [
       "  flight date   airline flight_num    class   from dep_time      to arr_time  \\\n",
       "0  26-06-2023  SpiceJet    SG-8709  economy  Delhi    18:55  Mumbai    21:05   \n",
       "1  26-06-2023  SpiceJet    SG-8157  economy  Delhi    06:20  Mumbai    08:40   \n",
       "\n",
       "   duration  price     stops  \n",
       "0       2.1  6,013  non-stop  \n",
       "1       2.2  6,013  non-stop  "
      ]
     },
     "execution_count": 76,
     "metadata": {},
     "output_type": "execute_result"
    }
   ],
   "source": [
    "# so we have duration in number let check dataset again to transform other columns\n",
    "data.head(2)"
   ]
  },
  {
   "cell_type": "code",
   "execution_count": 110,
   "id": "29390cc5-598a-4802-8934-7dec48017058",
   "metadata": {},
   "outputs": [],
   "source": [
    "# let's create a route which consis from-stops-to columsn in order know that revenue on basis stopsfor that we have to combine the three columns \n",
    "# let's create ne column name 'route'\n",
    "data[\"route\"]=data['from']+'-'+data['stops']+'-'+data['to']"
   ]
  },
  {
   "cell_type": "code",
   "execution_count": 89,
   "id": "802166e5-2d27-436f-9b71-950cf7bc8abb",
   "metadata": {},
   "outputs": [
    {
     "data": {
      "text/plain": [
       "0    Delhinon-stopMumbai\n",
       "1    Delhinon-stopMumbai\n",
       "2    Delhinon-stopMumbai\n",
       "Name: route, dtype: object"
      ]
     },
     "execution_count": 89,
     "metadata": {},
     "output_type": "execute_result"
    }
   ],
   "source": [
    "data.route.head(3)\n"
   ]
  },
  {
   "cell_type": "code",
   "execution_count": 112,
   "id": "0e6ea2c4-18f0-4b2c-ba66-e84d47427411",
   "metadata": {},
   "outputs": [],
   "source": [
    "# let's remove non-stop word from series\n",
    "def non_remove(text):\n",
    "    text=text.replace(\"non-stop\",'-')\n",
    "    text=text.replace(\"1-stop\",'-')\n",
    "    text=text.replace(\"Via\",'-')\n",
    "    return text\n",
    "data['route']=data['route'].map(non_remove)    \n",
    "    "
   ]
  },
  {
   "cell_type": "code",
   "execution_count": 113,
   "id": "ae9e6065-9b8d-4416-a3d8-702c6fb619e8",
   "metadata": {},
   "outputs": [
    {
     "data": {
      "text/plain": [
       "300201    Chennai---Hyderabad\n",
       "300202    Chennai---Hyderabad\n",
       "300203    Chennai---Hyderabad\n",
       "300204    Chennai---Hyderabad\n",
       "300205    Chennai---Hyderabad\n",
       "300206    Chennai---Hyderabad\n",
       "300207    Chennai---Hyderabad\n",
       "300208    Chennai---Hyderabad\n",
       "300209    Chennai---Hyderabad\n",
       "300210    Chennai---Hyderabad\n",
       "300211    Chennai---Hyderabad\n",
       "300212    Chennai---Hyderabad\n",
       "300213    Chennai---Hyderabad\n",
       "300214    Chennai---Hyderabad\n",
       "300215    Chennai---Hyderabad\n",
       "300216    Chennai---Hyderabad\n",
       "300217    Chennai---Hyderabad\n",
       "300218    Chennai---Hyderabad\n",
       "300219    Chennai---Hyderabad\n",
       "300220    Chennai---Hyderabad\n",
       "300221    Chennai---Hyderabad\n",
       "300222    Chennai---Hyderabad\n",
       "300223    Chennai---Hyderabad\n",
       "300224    Chennai---Hyderabad\n",
       "300225    Chennai---Hyderabad\n",
       "300226    Chennai---Hyderabad\n",
       "300227    Chennai---Hyderabad\n",
       "300228    Chennai---Hyderabad\n",
       "300229    Chennai---Hyderabad\n",
       "300230    Chennai---Hyderabad\n",
       "300231    Chennai---Hyderabad\n",
       "300232    Chennai---Hyderabad\n",
       "300233    Chennai---Hyderabad\n",
       "300234    Chennai---Hyderabad\n",
       "300235    Chennai---Hyderabad\n",
       "300236    Chennai---Hyderabad\n",
       "300237    Chennai---Hyderabad\n",
       "300238    Chennai---Hyderabad\n",
       "300239    Chennai---Hyderabad\n",
       "300240    Chennai---Hyderabad\n",
       "300241    Chennai---Hyderabad\n",
       "300242    Chennai---Hyderabad\n",
       "300243    Chennai---Hyderabad\n",
       "300244    Chennai---Hyderabad\n",
       "300245    Chennai---Hyderabad\n",
       "300246    Chennai---Hyderabad\n",
       "300247    Chennai---Hyderabad\n",
       "300248    Chennai---Hyderabad\n",
       "300249    Chennai---Hyderabad\n",
       "300250    Chennai---Hyderabad\n",
       "300251    Chennai---Hyderabad\n",
       "300252    Chennai---Hyderabad\n",
       "300253    Chennai---Hyderabad\n",
       "300254    Chennai---Hyderabad\n",
       "300255    Chennai---Hyderabad\n",
       "300256    Chennai---Hyderabad\n",
       "300257    Chennai---Hyderabad\n",
       "300258    Chennai---Hyderabad\n",
       "300259    Chennai---Hyderabad\n",
       "300260    Chennai---Hyderabad\n",
       "Name: route, dtype: object"
      ]
     },
     "execution_count": 113,
     "metadata": {},
     "output_type": "execute_result"
    }
   ],
   "source": [
    "data.route.tail(60)"
   ]
  },
  {
   "cell_type": "code",
   "execution_count": 114,
   "id": "02f5e67d-3ec5-40c5-a05e-1452df938a81",
   "metadata": {},
   "outputs": [],
   "source": [
    "# removing two hypens \n",
    "def non_remove2(text):\n",
    "    text=text.replace(\"--\",'')\n",
    "    return text\n",
    "data['route']=data['route'].map(non_remove2)  "
   ]
  },
  {
   "cell_type": "code",
   "execution_count": 118,
   "id": "6dd7832a-a6b1-4efd-b651-e836c8ffc6da",
   "metadata": {},
   "outputs": [
    {
     "data": {
      "text/plain": [
       "300251    Chennai-Hyderabad\n",
       "300252    Chennai-Hyderabad\n",
       "300253    Chennai-Hyderabad\n",
       "300254    Chennai-Hyderabad\n",
       "300255    Chennai-Hyderabad\n",
       "300256    Chennai-Hyderabad\n",
       "300257    Chennai-Hyderabad\n",
       "300258    Chennai-Hyderabad\n",
       "300259    Chennai-Hyderabad\n",
       "300260    Chennai-Hyderabad\n",
       "Name: route, dtype: object"
      ]
     },
     "execution_count": 118,
     "metadata": {},
     "output_type": "execute_result"
    }
   ],
   "source": [
    "data.route.tail(10)"
   ]
  },
  {
   "cell_type": "code",
   "execution_count": 119,
   "id": "fbb1e355-a85a-4090-afce-b7350eda2734",
   "metadata": {},
   "outputs": [
    {
     "data": {
      "text/html": [
       "<div>\n",
       "<style scoped>\n",
       "    .dataframe tbody tr th:only-of-type {\n",
       "        vertical-align: middle;\n",
       "    }\n",
       "\n",
       "    .dataframe tbody tr th {\n",
       "        vertical-align: top;\n",
       "    }\n",
       "\n",
       "    .dataframe thead th {\n",
       "        text-align: right;\n",
       "    }\n",
       "</style>\n",
       "<table border=\"1\" class=\"dataframe\">\n",
       "  <thead>\n",
       "    <tr style=\"text-align: right;\">\n",
       "      <th></th>\n",
       "      <th>flight date</th>\n",
       "      <th>airline</th>\n",
       "      <th>flight_num</th>\n",
       "      <th>class</th>\n",
       "      <th>from</th>\n",
       "      <th>dep_time</th>\n",
       "      <th>to</th>\n",
       "      <th>arr_time</th>\n",
       "      <th>duration</th>\n",
       "      <th>price</th>\n",
       "      <th>stops</th>\n",
       "      <th>route</th>\n",
       "    </tr>\n",
       "  </thead>\n",
       "  <tbody>\n",
       "    <tr>\n",
       "      <th>0</th>\n",
       "      <td>26-06-2023</td>\n",
       "      <td>SpiceJet</td>\n",
       "      <td>SG-8709</td>\n",
       "      <td>economy</td>\n",
       "      <td>Delhi</td>\n",
       "      <td>18:55</td>\n",
       "      <td>Mumbai</td>\n",
       "      <td>21:05</td>\n",
       "      <td>2.10</td>\n",
       "      <td>6,013</td>\n",
       "      <td>non-stop</td>\n",
       "      <td>Delhi-Mumbai</td>\n",
       "    </tr>\n",
       "    <tr>\n",
       "      <th>1</th>\n",
       "      <td>26-06-2023</td>\n",
       "      <td>SpiceJet</td>\n",
       "      <td>SG-8157</td>\n",
       "      <td>economy</td>\n",
       "      <td>Delhi</td>\n",
       "      <td>06:20</td>\n",
       "      <td>Mumbai</td>\n",
       "      <td>08:40</td>\n",
       "      <td>2.20</td>\n",
       "      <td>6,013</td>\n",
       "      <td>non-stop</td>\n",
       "      <td>Delhi-Mumbai</td>\n",
       "    </tr>\n",
       "    <tr>\n",
       "      <th>2</th>\n",
       "      <td>26-06-2023</td>\n",
       "      <td>AirAsia</td>\n",
       "      <td>I5-764</td>\n",
       "      <td>economy</td>\n",
       "      <td>Delhi</td>\n",
       "      <td>04:25</td>\n",
       "      <td>Mumbai</td>\n",
       "      <td>06:35</td>\n",
       "      <td>2.10</td>\n",
       "      <td>6,016</td>\n",
       "      <td>non-stop</td>\n",
       "      <td>Delhi-Mumbai</td>\n",
       "    </tr>\n",
       "    <tr>\n",
       "      <th>3</th>\n",
       "      <td>26-06-2023</td>\n",
       "      <td>Vistara</td>\n",
       "      <td>UK-995</td>\n",
       "      <td>economy</td>\n",
       "      <td>Delhi</td>\n",
       "      <td>10:20</td>\n",
       "      <td>Mumbai</td>\n",
       "      <td>12:35</td>\n",
       "      <td>2.15</td>\n",
       "      <td>6,015</td>\n",
       "      <td>non-stop</td>\n",
       "      <td>Delhi-Mumbai</td>\n",
       "    </tr>\n",
       "    <tr>\n",
       "      <th>4</th>\n",
       "      <td>26-06-2023</td>\n",
       "      <td>Vistara</td>\n",
       "      <td>UK-963</td>\n",
       "      <td>economy</td>\n",
       "      <td>Delhi</td>\n",
       "      <td>08:50</td>\n",
       "      <td>Mumbai</td>\n",
       "      <td>11:10</td>\n",
       "      <td>2.20</td>\n",
       "      <td>6,015</td>\n",
       "      <td>non-stop</td>\n",
       "      <td>Delhi-Mumbai</td>\n",
       "    </tr>\n",
       "  </tbody>\n",
       "</table>\n",
       "</div>"
      ],
      "text/plain": [
       "  flight date   airline flight_num    class   from dep_time      to arr_time  \\\n",
       "0  26-06-2023  SpiceJet    SG-8709  economy  Delhi    18:55  Mumbai    21:05   \n",
       "1  26-06-2023  SpiceJet    SG-8157  economy  Delhi    06:20  Mumbai    08:40   \n",
       "2  26-06-2023   AirAsia     I5-764  economy  Delhi    04:25  Mumbai    06:35   \n",
       "3  26-06-2023   Vistara     UK-995  economy  Delhi    10:20  Mumbai    12:35   \n",
       "4  26-06-2023   Vistara     UK-963  economy  Delhi    08:50  Mumbai    11:10   \n",
       "\n",
       "   duration  price     stops         route  \n",
       "0      2.10  6,013  non-stop  Delhi-Mumbai  \n",
       "1      2.20  6,013  non-stop  Delhi-Mumbai  \n",
       "2      2.10  6,016  non-stop  Delhi-Mumbai  \n",
       "3      2.15  6,015  non-stop  Delhi-Mumbai  \n",
       "4      2.20  6,015  non-stop  Delhi-Mumbai  "
      ]
     },
     "execution_count": 119,
     "metadata": {},
     "output_type": "execute_result"
    }
   ],
   "source": [
    "data.head()"
   ]
  },
  {
   "cell_type": "code",
   "execution_count": 125,
   "id": "4307ceeb-6ce1-454a-8bc9-0a3b26628330",
   "metadata": {},
   "outputs": [
    {
     "data": {
      "text/plain": [
       "array(['non-stop', '1-stop',\n",
       "       '1-stop\\n\\t\\t\\t\\t\\t\\t\\t\\t\\t\\t\\t\\tVia IXU\\n\\t\\t\\t\\t\\t\\t\\t\\t\\t\\t\\t\\t',\n",
       "       '1-stop\\n\\t\\t\\t\\t\\t\\t\\t\\t\\t\\t\\t\\tVia Chennai\\n\\t\\t\\t\\t\\t\\t\\t\\t\\t\\t\\t\\t',\n",
       "       '1-stop\\n\\t\\t\\t\\t\\t\\t\\t\\t\\t\\t\\t\\tVia Indore\\n\\t\\t\\t\\t\\t\\t\\t\\t\\t\\t\\t\\t',\n",
       "       '1-stop\\n\\t\\t\\t\\t\\t\\t\\t\\t\\t\\t\\t\\tVia RPR\\n\\t\\t\\t\\t\\t\\t\\t\\t\\t\\t\\t\\t',\n",
       "       '2+-stop',\n",
       "       '1-stop\\n\\t\\t\\t\\t\\t\\t\\t\\t\\t\\t\\t\\tVia Lucknow\\n\\t\\t\\t\\t\\t\\t\\t\\t\\t\\t\\t\\t',\n",
       "       '1-stop\\n\\t\\t\\t\\t\\t\\t\\t\\t\\t\\t\\t\\tVia GOP\\n\\t\\t\\t\\t\\t\\t\\t\\t\\t\\t\\t\\t',\n",
       "       '1-stop\\n\\t\\t\\t\\t\\t\\t\\t\\t\\t\\t\\t\\tVia Raipur\\n\\t\\t\\t\\t\\t\\t\\t\\t\\t\\t\\t\\t',\n",
       "       '1-stop\\n\\t\\t\\t\\t\\t\\t\\t\\t\\t\\t\\t\\tVia Nagpur\\n\\t\\t\\t\\t\\t\\t\\t\\t\\t\\t\\t\\t',\n",
       "       '1-stop\\n\\t\\t\\t\\t\\t\\t\\t\\t\\t\\t\\t\\tVia Surat\\n\\t\\t\\t\\t\\t\\t\\t\\t\\t\\t\\t\\t',\n",
       "       '1-stop\\n\\t\\t\\t\\t\\t\\t\\t\\t\\t\\t\\t\\tVia Hyderabad\\n\\t\\t\\t\\t\\t\\t\\t\\t\\t\\t\\t\\t',\n",
       "       '1-stop\\n\\t\\t\\t\\t\\t\\t\\t\\t\\t\\t\\t\\tVia STV\\n\\t\\t\\t\\t\\t\\t\\t\\t\\t\\t\\t\\t',\n",
       "       '1-stop\\n\\t\\t\\t\\t\\t\\t\\t\\t\\t\\t\\t\\tVia IDR\\n\\t\\t\\t\\t\\t\\t\\t\\t\\t\\t\\t\\t',\n",
       "       '1-stop\\n\\t\\t\\t\\t\\t\\t\\t\\t\\t\\t\\t\\tVia VTZ\\n\\t\\t\\t\\t\\t\\t\\t\\t\\t\\t\\t\\t',\n",
       "       '1-stop\\n\\t\\t\\t\\t\\t\\t\\t\\t\\t\\t\\t\\tVia Guwahati\\n\\t\\t\\t\\t\\t\\t\\t\\t\\t\\t\\t\\t',\n",
       "       '1-stop\\n\\t\\t\\t\\t\\t\\t\\t\\t\\t\\t\\t\\tVia NAG\\n\\t\\t\\t\\t\\t\\t\\t\\t\\t\\t\\t\\t',\n",
       "       '1-stop\\n\\t\\t\\t\\t\\t\\t\\t\\t\\t\\t\\t\\tVia Vishakhapatnam\\n\\t\\t\\t\\t\\t\\t\\t\\t\\t\\t\\t\\t',\n",
       "       '1-stop\\n\\t\\t\\t\\t\\t\\t\\t\\t\\t\\t\\t\\tVia NDC\\n\\t\\t\\t\\t\\t\\t\\t\\t\\t\\t\\t\\t',\n",
       "       '1-stop\\n\\t\\t\\t\\t\\t\\t\\t\\t\\t\\t\\t\\tVia IXE\\n\\t\\t\\t\\t\\t\\t\\t\\t\\t\\t\\t\\t',\n",
       "       '1-stop\\n\\t\\t\\t\\t\\t\\t\\t\\t\\t\\t\\t\\tVia Patna\\n\\t\\t\\t\\t\\t\\t\\t\\t\\t\\t\\t\\t',\n",
       "       '1-stop\\n\\t\\t\\t\\t\\t\\t\\t\\t\\t\\t\\t\\tVia PAT\\n\\t\\t\\t\\t\\t\\t\\t\\t\\t\\t\\t\\t',\n",
       "       '1-stop\\n\\t\\t\\t\\t\\t\\t\\t\\t\\t\\t\\t\\tVia Mangalore\\n\\t\\t\\t\\t\\t\\t\\t\\t\\t\\t\\t\\t',\n",
       "       '1-stop\\n\\t\\t\\t\\t\\t\\t\\t\\t\\t\\t\\t\\tVia Mumbai\\n\\t\\t\\t\\t\\t\\t\\t\\t\\t\\t\\t\\t',\n",
       "       '1-stop\\n\\t\\t\\t\\t\\t\\t\\t\\t\\t\\t\\t\\tVia KLH\\n\\t\\t\\t\\t\\t\\t\\t\\t\\t\\t\\t\\t',\n",
       "       '1-stop\\n\\t\\t\\t\\t\\t\\t\\t\\t\\t\\t\\t\\tVia MYQ\\n\\t\\t\\t\\t\\t\\t\\t\\t\\t\\t\\t\\t',\n",
       "       '1-stop\\n\\t\\t\\t\\t\\t\\t\\t\\t\\t\\t\\t\\tVia Kolkata\\n\\t\\t\\t\\t\\t\\t\\t\\t\\t\\t\\t\\t',\n",
       "       '1-stop\\n\\t\\t\\t\\t\\t\\t\\t\\t\\t\\t\\t\\tVia Delhi\\n\\t\\t\\t\\t\\t\\t\\t\\t\\t\\t\\t\\t',\n",
       "       '1-stop\\n\\t\\t\\t\\t\\t\\t\\t\\t\\t\\t\\t\\tVia Kolhapur\\n\\t\\t\\t\\t\\t\\t\\t\\t\\t\\t\\t\\t',\n",
       "       '1-stop\\n\\t\\t\\t\\t\\t\\t\\t\\t\\t\\t\\t\\tVia JRG\\n\\t\\t\\t\\t\\t\\t\\t\\t\\t\\t\\t\\t',\n",
       "       '1-stop\\n\\t\\t\\t\\t\\t\\t\\t\\t\\t\\t\\t\\tVia Bhubaneswar\\n\\t\\t\\t\\t\\t\\t\\t\\t\\t\\t\\t\\t',\n",
       "       '1-stop\\n\\t\\t\\t\\t\\t\\t\\t\\t\\t\\t\\t\\tVia Ranchi\\n\\t\\t\\t\\t\\t\\t\\t\\t\\t\\t\\t\\t',\n",
       "       '1-stop\\n\\t\\t\\t\\t\\t\\t\\t\\t\\t\\t\\t\\tVia IXR\\n\\t\\t\\t\\t\\t\\t\\t\\t\\t\\t\\t\\t',\n",
       "       '1-stop\\n\\t\\t\\t\\t\\t\\t\\t\\t\\t\\t\\t\\tVia JGB\\n\\t\\t\\t\\t\\t\\t\\t\\t\\t\\t\\t\\t',\n",
       "       '1-stop\\n\\t\\t\\t\\t\\t\\t\\t\\t\\t\\t\\t\\tVia BBI\\n\\t\\t\\t\\t\\t\\t\\t\\t\\t\\t\\t\\t',\n",
       "       '1-stop\\n\\t\\t\\t\\t\\t\\t\\t\\t\\t\\t\\t\\tVia Mysore\\n\\t\\t\\t\\t\\t\\t\\t\\t\\t\\t\\t\\t',\n",
       "       '1-stop\\n\\t\\t\\t\\t\\t\\t\\t\\t\\t\\t\\t\\tVia GAY\\n\\t\\t\\t\\t\\t\\t\\t\\t\\t\\t\\t\\t',\n",
       "       '1-stop\\n\\t\\t\\t\\t\\t\\t\\t\\t\\t\\t\\t\\tVia GAU\\n\\t\\t\\t\\t\\t\\t\\t\\t\\t\\t\\t\\t',\n",
       "       '1-stop\\n\\t\\t\\t\\t\\t\\t\\t\\t\\t\\t\\t\\tVia HYD\\n\\t\\t\\t\\t\\t\\t\\t\\t\\t\\t\\t\\t'],\n",
       "      dtype=object)"
      ]
     },
     "execution_count": 125,
     "metadata": {},
     "output_type": "execute_result"
    }
   ],
   "source": [
    "# there is name of city in shortform we have to change with orignal form \n",
    "data['stops'].unique()"
   ]
  },
  {
   "cell_type": "code",
   "execution_count": 131,
   "id": "2cde31b3-785f-4e79-9fa1-eb82672481ca",
   "metadata": {},
   "outputs": [],
   "source": [
    "def replace_stop(stop1):\n",
    "    stop1 = stop1.replace('IXU', 'Indore')\n",
    "    stop1 = stop1.replace('Chennai', 'Chennai')\n",
    "    stop1 = stop1.replace('RPR', 'Raipur')\n",
    "    stop1 = stop1.replace('STV', 'Surat')\n",
    "    stop1 = stop1.replace('IDR', 'Indore')\n",
    "    stop1 = stop1.replace('VTZ', 'Visakhapatnam')\n",
    "    stop1 = stop1.replace('NDC', 'Nanded')\n",
    "    stop1 = stop1.replace('IXE', 'Mangalore')\n",
    "    stop1 = stop1.replace('KLH', 'Kolhapur')\n",
    "    stop1 = stop1.replace('MYQ', 'Mysore')\n",
    "    stop1 = stop1.replace('JRG', 'Jorhat')\n",
    "    stop1 = stop1.replace('GAY', 'Gaya')\n",
    "    stop1 = stop1.replace('BBI', 'Bhubaneswar')\n",
    "    stop1 = stop1.replace('JGB', 'Jabalpur')\n",
    "    stop1 = stop1.replace('IXR', 'Jamshedpur')\n",
    "    stop1 = stop1.replace('HYD', 'Hyderabad')\n",
    "    stop1 = stop1.replace('GAU', 'Guwahati')\n",
    "    return stop1\n",
    "\n",
    "data[\"stops\"] = data[\"stops\"].map(replace_stop)\n"
   ]
  },
  {
   "cell_type": "code",
   "execution_count": 138,
   "id": "b5140beb-5fe1-48fa-93d4-57d10c270fca",
   "metadata": {},
   "outputs": [
    {
     "data": {
      "text/html": [
       "<div>\n",
       "<style scoped>\n",
       "    .dataframe tbody tr th:only-of-type {\n",
       "        vertical-align: middle;\n",
       "    }\n",
       "\n",
       "    .dataframe tbody tr th {\n",
       "        vertical-align: top;\n",
       "    }\n",
       "\n",
       "    .dataframe thead th {\n",
       "        text-align: right;\n",
       "    }\n",
       "</style>\n",
       "<table border=\"1\" class=\"dataframe\">\n",
       "  <thead>\n",
       "    <tr style=\"text-align: right;\">\n",
       "      <th></th>\n",
       "      <th>flight date</th>\n",
       "      <th>airline</th>\n",
       "      <th>flight_num</th>\n",
       "      <th>class</th>\n",
       "      <th>from</th>\n",
       "      <th>dep_time</th>\n",
       "      <th>to</th>\n",
       "      <th>arr_time</th>\n",
       "      <th>duration</th>\n",
       "      <th>price</th>\n",
       "      <th>stops</th>\n",
       "      <th>route</th>\n",
       "    </tr>\n",
       "  </thead>\n",
       "  <tbody>\n",
       "    <tr>\n",
       "      <th>0</th>\n",
       "      <td>26-06-2023</td>\n",
       "      <td>SpiceJet</td>\n",
       "      <td>SG-8709</td>\n",
       "      <td>economy</td>\n",
       "      <td>Delhi</td>\n",
       "      <td>18:55</td>\n",
       "      <td>Mumbai</td>\n",
       "      <td>21:05</td>\n",
       "      <td>2.10</td>\n",
       "      <td>6,013</td>\n",
       "      <td>non-stop</td>\n",
       "      <td>Delhi-Mumbai</td>\n",
       "    </tr>\n",
       "    <tr>\n",
       "      <th>1</th>\n",
       "      <td>26-06-2023</td>\n",
       "      <td>SpiceJet</td>\n",
       "      <td>SG-8157</td>\n",
       "      <td>economy</td>\n",
       "      <td>Delhi</td>\n",
       "      <td>06:20</td>\n",
       "      <td>Mumbai</td>\n",
       "      <td>08:40</td>\n",
       "      <td>2.20</td>\n",
       "      <td>6,013</td>\n",
       "      <td>non-stop</td>\n",
       "      <td>Delhi-Mumbai</td>\n",
       "    </tr>\n",
       "    <tr>\n",
       "      <th>2</th>\n",
       "      <td>26-06-2023</td>\n",
       "      <td>AirAsia</td>\n",
       "      <td>I5-764</td>\n",
       "      <td>economy</td>\n",
       "      <td>Delhi</td>\n",
       "      <td>04:25</td>\n",
       "      <td>Mumbai</td>\n",
       "      <td>06:35</td>\n",
       "      <td>2.10</td>\n",
       "      <td>6,016</td>\n",
       "      <td>non-stop</td>\n",
       "      <td>Delhi-Mumbai</td>\n",
       "    </tr>\n",
       "    <tr>\n",
       "      <th>3</th>\n",
       "      <td>26-06-2023</td>\n",
       "      <td>Vistara</td>\n",
       "      <td>UK-995</td>\n",
       "      <td>economy</td>\n",
       "      <td>Delhi</td>\n",
       "      <td>10:20</td>\n",
       "      <td>Mumbai</td>\n",
       "      <td>12:35</td>\n",
       "      <td>2.15</td>\n",
       "      <td>6,015</td>\n",
       "      <td>non-stop</td>\n",
       "      <td>Delhi-Mumbai</td>\n",
       "    </tr>\n",
       "    <tr>\n",
       "      <th>4</th>\n",
       "      <td>26-06-2023</td>\n",
       "      <td>Vistara</td>\n",
       "      <td>UK-963</td>\n",
       "      <td>economy</td>\n",
       "      <td>Delhi</td>\n",
       "      <td>08:50</td>\n",
       "      <td>Mumbai</td>\n",
       "      <td>11:10</td>\n",
       "      <td>2.20</td>\n",
       "      <td>6,015</td>\n",
       "      <td>non-stop</td>\n",
       "      <td>Delhi-Mumbai</td>\n",
       "    </tr>\n",
       "  </tbody>\n",
       "</table>\n",
       "</div>"
      ],
      "text/plain": [
       "  flight date   airline flight_num    class   from dep_time      to arr_time  \\\n",
       "0  26-06-2023  SpiceJet    SG-8709  economy  Delhi    18:55  Mumbai    21:05   \n",
       "1  26-06-2023  SpiceJet    SG-8157  economy  Delhi    06:20  Mumbai    08:40   \n",
       "2  26-06-2023   AirAsia     I5-764  economy  Delhi    04:25  Mumbai    06:35   \n",
       "3  26-06-2023   Vistara     UK-995  economy  Delhi    10:20  Mumbai    12:35   \n",
       "4  26-06-2023   Vistara     UK-963  economy  Delhi    08:50  Mumbai    11:10   \n",
       "\n",
       "   duration  price     stops         route  \n",
       "0      2.10  6,013  non-stop  Delhi-Mumbai  \n",
       "1      2.20  6,013  non-stop  Delhi-Mumbai  \n",
       "2      2.10  6,016  non-stop  Delhi-Mumbai  \n",
       "3      2.15  6,015  non-stop  Delhi-Mumbai  \n",
       "4      2.20  6,015  non-stop  Delhi-Mumbai  "
      ]
     },
     "execution_count": 138,
     "metadata": {},
     "output_type": "execute_result"
    }
   ],
   "source": [
    "data.head()"
   ]
  },
  {
   "cell_type": "code",
   "execution_count": 139,
   "id": "148c70cb-dcf8-4398-a702-2c56ff7bc712",
   "metadata": {},
   "outputs": [
    {
     "data": {
      "text/plain": [
       "str"
      ]
     },
     "execution_count": 139,
     "metadata": {},
     "output_type": "execute_result"
    }
   ],
   "source": [
    "# let's check type of date\n",
    "\n",
    "type(data[\"flight date\"][0])"
   ]
  },
  {
   "cell_type": "code",
   "execution_count": 142,
   "id": "a0fe341e-c3de-4f4b-b054-999f74d0d249",
   "metadata": {},
   "outputs": [],
   "source": [
    "# let's convert date info date type\n",
    "data[\"flight date\"]=pd.to_datetime(data[\"flight date\"])"
   ]
  },
  {
   "cell_type": "code",
   "execution_count": 143,
   "id": "f5a83141-ca65-4a9a-b99d-666de8d31a0e",
   "metadata": {},
   "outputs": [
    {
     "data": {
      "text/plain": [
       "pandas._libs.tslibs.timestamps.Timestamp"
      ]
     },
     "execution_count": 143,
     "metadata": {},
     "output_type": "execute_result"
    }
   ],
   "source": [
    "# let's check type of date agin\n",
    "\n",
    "type(data[\"flight date\"][0])"
   ]
  },
  {
   "cell_type": "markdown",
   "id": "7b147bbf-df38-4ade-8c01-a28654214d36",
   "metadata": {},
   "source": [
    "#  business problems"
   ]
  },
  {
   "cell_type": "code",
   "execution_count": 145,
   "id": "8acf980f-5a45-45d4-8b4a-b426a6bf2362",
   "metadata": {},
   "outputs": [
    {
     "data": {
      "text/plain": [
       "1569"
      ]
     },
     "execution_count": 145,
     "metadata": {},
     "output_type": "execute_result"
    }
   ],
   "source": [
    "# What is the total number of flights in the dataset?\n",
    "data.head(1)\n",
    "data['flight_num'].nunique()"
   ]
  },
  {
   "cell_type": "code",
   "execution_count": 150,
   "id": "ac7013dd-1981-4b5d-a4c0-1769e568720a",
   "metadata": {},
   "outputs": [
    {
     "data": {
      "text/plain": [
       "array(['SpiceJet', 'AirAsia', 'Vistara', 'GO FIRST', 'Indigo',\n",
       "       'Air India', 'Trujet', 'StarAir'], dtype=object)"
      ]
     },
     "execution_count": 150,
     "metadata": {},
     "output_type": "execute_result"
    }
   ],
   "source": [
    "# How many unique airlines are operating flights?\n",
    "data.airline.unique()"
   ]
  },
  {
   "cell_type": "code",
   "execution_count": 152,
   "id": "ff119ebb-c566-49fb-aa10-b61929dcb658",
   "metadata": {},
   "outputs": [
    {
     "name": "stdout",
     "output_type": "stream",
     "text": [
      "the range of flight dates available is 48 days 00:00:00\n"
     ]
    }
   ],
   "source": [
    "# What is the range of flight dates available? \n",
    "min=data['flight date'].min()\n",
    "max=data['flight date'].max()\n",
    "range=max-min\n",
    "print(\"the range of flight dates available is\",range)\n"
   ]
  },
  {
   "cell_type": "code",
   "execution_count": 159,
   "id": "b7bfd903-6997-4e4d-b1dd-f2e1be110dfb",
   "metadata": {},
   "outputs": [
    {
     "data": {
      "text/plain": [
       "airline\n",
       "Vistara      127859\n",
       "Air India     80892\n",
       "Indigo        43120\n",
       "GO FIRST      23177\n",
       "AirAsia       16098\n",
       "SpiceJet       9011\n",
       "StarAir          61\n",
       "Trujet           41\n",
       "Name: flight_num, dtype: int64"
      ]
     },
     "execution_count": 159,
     "metadata": {},
     "output_type": "execute_result"
    }
   ],
   "source": [
    "# Which are the top 5 airlines with the most flights? \n",
    "data.groupby('airline')['flight_num'].count().sort_values(ascending=False)"
   ]
  },
  {
   "cell_type": "code",
   "execution_count": 161,
   "id": "f3ae0aaf-b794-457d-b26b-9950e55b3b1a",
   "metadata": {},
   "outputs": [
    {
     "data": {
      "text/plain": [
       "class\n",
       "economy     206772\n",
       "business     93487\n",
       "Name: flight_num, dtype: int64"
      ]
     },
     "execution_count": 161,
     "metadata": {},
     "output_type": "execute_result"
    }
   ],
   "source": [
    "# What is the distribution of flights by class (economy, business, etc.)? \n",
    "data.groupby('class').flight_num.count().sort_values(ascending=False)"
   ]
  },
  {
   "cell_type": "code",
   "execution_count": 175,
   "id": "0f55aefd-6f85-4c5c-b775-42ee04f7d20f",
   "metadata": {},
   "outputs": [
    {
     "data": {
      "text/plain": [
       "from\n",
       "Delhi    61343\n",
       "Name: count, dtype: int64"
      ]
     },
     "execution_count": 175,
     "metadata": {},
     "output_type": "execute_result"
    }
   ],
   "source": [
    "# What is the most common departure city?\n",
    "data['from'].value_counts().sort_values(ascending=False).nlargest(1)"
   ]
  },
  {
   "cell_type": "code",
   "execution_count": 179,
   "id": "5065cced-83ae-49e8-ab84-8566deaa7c3b",
   "metadata": {},
   "outputs": [
    {
     "data": {
      "text/plain": [
       "to\n",
       "Mumbai    59107\n",
       "Name: count, dtype: int64"
      ]
     },
     "execution_count": 179,
     "metadata": {},
     "output_type": "execute_result"
    }
   ],
   "source": [
    "# What is the most common arrival city? \n",
    "data['to'].value_counts().nlargest(1)"
   ]
  },
  {
   "cell_type": "code",
   "execution_count": 226,
   "id": "8f7bb999-649d-4386-8577-2d43e3511e06",
   "metadata": {},
   "outputs": [
    {
     "data": {
      "text/plain": [
       "flight_num\n",
       "UK-706    3235\n",
       "UK-772    2741\n",
       "UK-720    2650\n",
       "UK-836    2542\n",
       "UK-822    2468\n",
       "Name: count, dtype: int64"
      ]
     },
     "execution_count": 226,
     "metadata": {},
     "output_type": "execute_result"
    }
   ],
   "source": [
    "# What are the top 5 most common flight numbers? \n",
    "data['flight_num'].value_counts().nlargest(5)\n"
   ]
  },
  {
   "cell_type": "code",
   "execution_count": 227,
   "id": "25b35584-4bef-4768-ab4a-3ad984a068ad",
   "metadata": {},
   "outputs": [
    {
     "data": {
      "text/plain": [
       "np.float64(12.0410066443523)"
      ]
     },
     "execution_count": 227,
     "metadata": {},
     "output_type": "execute_result"
    }
   ],
   "source": [
    "# What is the average flight duration?\n",
    "data.duration.mean()"
   ]
  },
  {
   "cell_type": "code",
   "execution_count": 239,
   "id": "f28bed25-48d8-46f1-baf7-f5a617ec1848",
   "metadata": {},
   "outputs": [
    {
     "data": {
      "text/html": [
       "<div>\n",
       "<style scoped>\n",
       "    .dataframe tbody tr th:only-of-type {\n",
       "        vertical-align: middle;\n",
       "    }\n",
       "\n",
       "    .dataframe tbody tr th {\n",
       "        vertical-align: top;\n",
       "    }\n",
       "\n",
       "    .dataframe thead th {\n",
       "        text-align: right;\n",
       "    }\n",
       "</style>\n",
       "<table border=\"1\" class=\"dataframe\">\n",
       "  <thead>\n",
       "    <tr style=\"text-align: right;\">\n",
       "      <th></th>\n",
       "      <th>airline</th>\n",
       "      <th>duration</th>\n",
       "      <th>from</th>\n",
       "      <th>to</th>\n",
       "    </tr>\n",
       "  </thead>\n",
       "  <tbody>\n",
       "    <tr>\n",
       "      <th>193997</th>\n",
       "      <td>Air India</td>\n",
       "      <td>49.5</td>\n",
       "      <td>Chennai</td>\n",
       "      <td>Bangalore</td>\n",
       "    </tr>\n",
       "    <tr>\n",
       "      <th>194467</th>\n",
       "      <td>Air India</td>\n",
       "      <td>49.5</td>\n",
       "      <td>Chennai</td>\n",
       "      <td>Bangalore</td>\n",
       "    </tr>\n",
       "  </tbody>\n",
       "</table>\n",
       "</div>"
      ],
      "text/plain": [
       "          airline  duration     from         to\n",
       "193997  Air India      49.5  Chennai  Bangalore\n",
       "194467  Air India      49.5  Chennai  Bangalore"
      ]
     },
     "execution_count": 239,
     "metadata": {},
     "output_type": "execute_result"
    }
   ],
   "source": [
    "# Which airlines have flights with the longest durations?\n",
    "max=data[\"duration\"].max()\n",
    "data[data[\"duration\"]==max][['airline','duration','from','to']]"
   ]
  },
  {
   "cell_type": "code",
   "execution_count": 244,
   "id": "5bf67e71-6f86-47ea-9892-485fcc67559d",
   "metadata": {},
   "outputs": [
    {
     "data": {
      "text/plain": [
       "airline\n",
       "StarAir    2.410656\n",
       "Name: duration, dtype: float64"
      ]
     },
     "execution_count": 244,
     "metadata": {},
     "output_type": "execute_result"
    }
   ],
   "source": [
    "# Which airlines have the shortest average flight durations? \n",
    "data.groupby(\"airline\")['duration'].mean().sort_values(ascending=True).nsmallest(1)"
   ]
  },
  {
   "cell_type": "code",
   "execution_count": 257,
   "id": "147bc017-48f2-4d15-9807-63558560d7bb",
   "metadata": {},
   "outputs": [
    {
     "name": "stdout",
     "output_type": "stream",
     "text": [
      "non-stop flights percentage is 12.0 %\n"
     ]
    }
   ],
   "source": [
    "# What is the percentage of flights that are non-stop? \n",
    "non_stop=data[data['stops']=='non-stop'].count()\n",
    "total=data.shape[0]\n",
    "non_stop_percent=non_stop/total*100\n",
    "print(f\"non-stop flights percentage is {round(non_stop_percent.iloc[1],2)} %\")"
   ]
  },
  {
   "cell_type": "code",
   "execution_count": 259,
   "id": "9f1f6aac-8901-4147-9b17-93d18c9b7961",
   "metadata": {},
   "outputs": [
    {
     "data": {
      "text/plain": [
       "array(['Delhi', 'Mumbai', 'Bangalore', 'Kolkata', 'Hyderabad', 'Chennai'],\n",
       "      dtype=object)"
      ]
     },
     "execution_count": 259,
     "metadata": {},
     "output_type": "execute_result"
    }
   ],
   "source": [
    "# How many unique departure cities are in the dataset? \n",
    "data.head()\n",
    "data[\"from\"].unique()"
   ]
  },
  {
   "cell_type": "code",
   "execution_count": 260,
   "id": "0238241e-fa83-46d8-972a-7db5af556282",
   "metadata": {},
   "outputs": [
    {
     "data": {
      "text/plain": [
       "array(['Mumbai', 'Bangalore', 'Kolkata', 'Hyderabad', 'Chennai', 'Delhi'],\n",
       "      dtype=object)"
      ]
     },
     "execution_count": 260,
     "metadata": {},
     "output_type": "execute_result"
    }
   ],
   "source": [
    "# How many unique arrival cities are in the dataset? \n",
    "data.to.unique()"
   ]
  },
  {
   "cell_type": "code",
   "execution_count": 271,
   "id": "1faa9422-bee9-48cb-acb1-a7ac3adc71fb",
   "metadata": {},
   "outputs": [
    {
     "data": {
      "text/plain": [
       "from_to\n",
       "Delhi-Mumbai    15289\n",
       "Name: count, dtype: int64"
      ]
     },
     "execution_count": 271,
     "metadata": {},
     "output_type": "execute_result"
    }
   ],
   "source": [
    "# Which flight route (from-to) has the highest number of flights? \n",
    "# for this we have combine  from and to columns so let's do it\n",
    "data['from_to']=data[\"from\"]+\"-\"+data[\"to\"]\n",
    "data[\"from_to\"].value_counts().nlargest(1)"
   ]
  },
  {
   "cell_type": "markdown",
   "id": "db1c0c2d-0d65-49af-a78a-65055f396bfc",
   "metadata": {},
   "source": [
    "# Analysis by Date "
   ]
  },
  {
   "cell_type": "code",
   "execution_count": 282,
   "id": "07b5f5fa-55bd-4753-b97c-ca634744ad01",
   "metadata": {},
   "outputs": [
    {
     "data": {
      "text/plain": [
       "month\n",
       "Jul    196733\n",
       "Name: flight_num, dtype: int64"
      ]
     },
     "execution_count": 282,
     "metadata": {},
     "output_type": "execute_result"
    }
   ],
   "source": [
    "# Which month has the highest number of flights? \n",
    "# For that we have to extract month from date column\n",
    "\n",
    "    \n",
    "data[\"month\"]=data['flight date'].dt.month\n",
    "def month_name(data):\n",
    "    if data==1:\n",
    "      return 'Jan'\n",
    "    elif data==2:\n",
    "      return 'Feb'\n",
    "    elif data==3:\n",
    "      return 'Mar' \n",
    "    elif data==4:\n",
    "      return 'Apr'    \n",
    "    elif data==5:\n",
    "      return 'May'    \n",
    "    elif data==6:\n",
    "      return 'Jun'    \n",
    "    elif data==7:\n",
    "      return 'Jul'    \n",
    "    elif data==8:\n",
    "      return 'Sep'    \n",
    "    elif data==9:\n",
    "      return 'Oct'    \n",
    "    elif data==11:\n",
    "      return 'Nov'        \n",
    "    else:\n",
    "      return 'Dec'    \n",
    "data[\"month\"]=data[\"month\"].map(month_name)\n",
    "data.month.head()\n",
    "\n",
    "data.groupby('month')['flight_num'].count().nlargest(1)\n"
   ]
  },
  {
   "cell_type": "code",
   "execution_count": 284,
   "id": "5c39ec40-f3dc-4827-a916-058e3c473abf",
   "metadata": {},
   "outputs": [
    {
     "data": {
      "text/plain": [
       "day\n",
       "Thursday    44072\n",
       "Name: count, dtype: int64"
      ]
     },
     "execution_count": 284,
     "metadata": {},
     "output_type": "execute_result"
    }
   ],
   "source": [
    "# Which day of the week has the most flights? \n",
    "# for that we have to extract the day of week\n",
    "data[\"day\"]=data[\"flight date\"].dt.day_name()\n",
    "data['day'].value_counts().nlargest(1)"
   ]
  },
  {
   "cell_type": "code",
   "execution_count": 286,
   "id": "823e536d-9d7f-4deb-87ad-8a9d737648b3",
   "metadata": {},
   "outputs": [
    {
     "data": {
      "text/plain": [
       "np.float64(31.939049037336453)"
      ]
     },
     "execution_count": 286,
     "metadata": {},
     "output_type": "execute_result"
    }
   ],
   "source": [
    "# How many flights are there per day on average? \n",
    "data.groupby('day')[\"flight_num\"].count().mean()"
   ]
  },
  {
   "cell_type": "code",
   "execution_count": 297,
   "id": "79043d66-8bda-48a8-8525-bce23d53688a",
   "metadata": {},
   "outputs": [
    {
     "name": "stdout",
     "output_type": "stream",
     "text": [
      "Total distribution of flights per month month\n",
      "Jul    65.52\n",
      "Jun     6.89\n",
      "Sep    27.59\n",
      "Name: flight_num, dtype: float64 \n"
     ]
    }
   ],
   "source": [
    "# What is the distribution of flights by month? \n",
    "\n",
    "mothly_distribution_of_flights=data.groupby('month')['flight_num'].count()/300259*100\n",
    "percent=round(mothly_distribution_of_flights,2)\n",
    "print(f\"Total distribution of flights per month {percent } \")"
   ]
  },
  {
   "cell_type": "code",
   "execution_count": 304,
   "id": "067cc225-5a23-47eb-9c73-498564872ff1",
   "metadata": {},
   "outputs": [
    {
     "data": {
      "text/plain": [
       "Text(0.5, 1.0, 'Average flight duration by month')"
      ]
     },
     "execution_count": 304,
     "metadata": {},
     "output_type": "execute_result"
    },
    {
     "data": {
      "image/png": "[encoded data removed]",
      "text/plain": [
       "<Figure size 640x480 with 1 Axes>"
      ]
     },
     "metadata": {},
     "output_type": "display_data"
    }
   ],
   "source": [
    "# How does the flight duration change over months? \n",
    "trend=data.groupby('month')[\"duration\"].mean()\n",
    "trend.plot(kind='line',marker='o',color='b')\n",
    "plt.xlabel('month')\n",
    "plt.ylabel('average duration')\n",
    "plt.title(\"Average flight duration by month\")"
   ]
  },
  {
   "cell_type": "markdown",
   "id": "ca489377-7ccb-4544-9dfe-c1c306b10242",
   "metadata": {},
   "source": [
    "\n",
    "# Analysis by Airline "
   ]
  },
  {
   "cell_type": "code",
   "execution_count": 308,
   "id": "c1c4c6a7-21c8-432e-bd17-2175257ff43c",
   "metadata": {},
   "outputs": [
    {
     "name": "stdout",
     "output_type": "stream",
     "text": [
      "folowing  is the average flight duration for each airline airline\n",
      "Air India    15.32\n",
      "Vistara      13.16\n",
      "SpiceJet     12.40\n",
      "AirAsia       8.76\n",
      "GO FIRST      8.57\n",
      "Indigo        5.62\n",
      "Trujet        3.70\n",
      "StarAir       2.41\n",
      "Name: duration, dtype: float64\n"
     ]
    }
   ],
   "source": [
    "# What is average flight duration bt airline\n",
    "avg_duration=data.groupby(\"airline\")['duration'].mean().sort_values(ascending=False)\n",
    "result=round(avg_duration,2)\n",
    "print(f\"folowing  is the average flight duration for each airline {result}\")"
   ]
  },
  {
   "cell_type": "code",
   "execution_count": 316,
   "id": "c85057be-d42c-46b8-9d0d-f28985c0c230",
   "metadata": {},
   "outputs": [
    {
     "data": {
      "text/plain": [
       "airline\n",
       "Indigo    11216\n",
       "Name: count, dtype: int64"
      ]
     },
     "execution_count": 316,
     "metadata": {},
     "output_type": "execute_result"
    }
   ],
   "source": [
    "# Which airline has the most non-stop flights? \n",
    "count_non_stop=data[data[\"stops\"]=='non-stop']['airline'].value_counts()\n",
    "count_non_stop.nlargest(1)\n",
    "\n"
   ]
  },
  {
   "cell_type": "code",
   "execution_count": 317,
   "id": "9d779d46-a1f2-4c8e-9aa8-38ccf856ba04",
   "metadata": {},
   "outputs": [
    {
     "name": "stdout",
     "output_type": "stream",
     "text": [
      "airline without any stops airline\n",
      "Vistara      117599\n",
      "Air India     74483\n",
      "Indigo        31904\n",
      "GO FIRST      19954\n",
      "AirAsia       13664\n",
      "SpiceJet       6549\n",
      "Trujet           41\n",
      "StarAir          21\n",
      "Name: count, dtype: int64\n"
     ]
    }
   ],
   "source": [
    "# Which airline has the most flights with stops? \n",
    "not_non_stop=data[data[\"stops\"]!='non-stop']['airline'].value_counts()\n",
    "print(f\"airline without any stops {not_non_stop}\")\n"
   ]
  },
  {
   "cell_type": "code",
   "execution_count": 331,
   "id": "238911be-ac69-4ff7-87e2-c75147b3b405",
   "metadata": {},
   "outputs": [
    {
     "name": "stdout",
     "output_type": "stream",
     "text": [
      "airline    class   \n",
      "Air India  business    32898\n",
      "           economy     47994\n",
      "AirAsia    economy     16098\n",
      "GO FIRST   economy     23177\n",
      "Indigo     economy     43120\n",
      "SpiceJet   economy      9011\n",
      "StarAir    economy        61\n",
      "Trujet     economy        41\n",
      "Vistara    business    60589\n",
      "           economy     67270\n",
      "dtype: int64\n"
     ]
    }
   ],
   "source": [
    "# Group by airline and class, then count occurrences\n",
    "class_distribution = data.groupby(['airline', 'class']).size()\n",
    "\n",
    "# To get the distribution as percentages\n",
    "class_distribution_percentage = (\n",
    "    class_distribution / class_distribution.groupby(level=0).sum() * 100\n",
    ").round(2)\n",
    "\n",
    "print(\"Class Distribution by Airline:\")\n",
    "print(class_distrinution)\n",
    "\n",
    "print(\"\\nClass Distribution by Airline (Percentage):\")\n",
    "print(class_distribution_percentage)\n"
   ]
  },
  {
   "cell_type": "markdown",
   "id": "759dbfa4-712d-4d87-9498-e0c66bd8aab5",
   "metadata": {},
   "source": [
    "# Analysis by Flight Class "
   ]
  },
  {
   "cell_type": "code",
   "execution_count": 336,
   "id": "18450949-f283-48a9-9a05-429c7fe5ec91",
   "metadata": {},
   "outputs": [
    {
     "data": {
      "text/plain": [
       "class\n",
       "business     8102\n",
       "economy     27942\n",
       "Name: class, dtype: int64"
      ]
     },
     "execution_count": 336,
     "metadata": {},
     "output_type": "execute_result"
    }
   ],
   "source": [
    "# How many flights in each class are non-stop?\n",
    "count_no_stop=data[data['stops']=='non-stop']\n",
    "count_no_stop.groupby('class')['class'].count()"
   ]
  },
  {
   "cell_type": "code",
   "execution_count": 370,
   "id": "858e8400-0804-4167-9468-467dcc4a97da",
   "metadata": {},
   "outputs": [
    {
     "name": "stdout",
     "output_type": "stream",
     "text": [
      "total Economy distribution is 68.86454694114082\n"
     ]
    }
   ],
   "source": [
    "# What percentage of flights are business class? \n",
    "\n",
    "total=data[\"class\"].value_counts()\n",
    "Economy=total.get(\"economy\",0)\n",
    "total=total.sum()\n",
    "percent=Economy/total*100\n",
    "percent\n",
    "\n",
    "print(\"total Economy distribution is\",percent)\n",
    "\n"
   ]
  },
  {
   "cell_type": "code",
   "execution_count": 371,
   "id": "367921c1-41bf-4dc2-a4cd-d27bc86e8bb4",
   "metadata": {},
   "outputs": [
    {
     "name": "stdout",
     "output_type": "stream",
     "text": [
      "total Business distribution is 31.135453058859184\n"
     ]
    }
   ],
   "source": [
    "# What percentage of flights are economy class? \n",
    "\n",
    "total2=data[\"class\"].value_counts()\n",
    "business=total2.get(\"business\",0)\n",
    "total2=total.sum()\n",
    "percent2=business/total*100\n",
    "percent2\n",
    "\n",
    "print(\"total Business distribution is\",percent2)\n",
    "\n",
    "\n",
    "\n",
    "\n"
   ]
  },
  {
   "cell_type": "markdown",
   "id": "cdfe25c6-20df-4ad5-af23-ce7399d59e2d",
   "metadata": {},
   "source": [
    "# Analysis by Departure Time "
   ]
  },
  {
   "cell_type": "code",
   "execution_count": 376,
   "id": "d35c5e73-7b9a-4a1e-ab77-26cebe9372f0",
   "metadata": {},
   "outputs": [
    {
     "data": {
      "text/plain": [
       "dep_time\n",
       "07:00    8760\n",
       "Name: count, dtype: int64"
      ]
     },
     "execution_count": 376,
     "metadata": {},
     "output_type": "execute_result"
    }
   ],
   "source": [
    "# What is the most common departure time? \n",
    "data.head(2)\n",
    "data['dep_time'].value_counts().nlargest(1)"
   ]
  },
  {
   "cell_type": "code",
   "execution_count": 378,
   "id": "4edc5321-f335-48e1-9184-173400bd5ae6",
   "metadata": {},
   "outputs": [
    {
     "data": {
      "text/plain": [
       "str"
      ]
     },
     "execution_count": 378,
     "metadata": {},
     "output_type": "execute_result"
    }
   ],
   "source": [
    "# What is the distribution of departure times throughout the day? \n",
    "type(data[\"dep_time\"][0])"
   ]
  },
  {
   "cell_type": "code",
   "execution_count": 393,
   "id": "868e8361-7c6e-42d8-bce3-4a999e9a8097",
   "metadata": {},
   "outputs": [
    {
     "data": {
      "text/plain": [
       "<Axes: xlabel='dep_time'>"
      ]
     },
     "execution_count": 393,
     "metadata": {},
     "output_type": "execute_result"
    },
    {
     "data": {
      "image/png": "[encoded data removed]",
      "text/plain": [
       "<Figure size 640x480 with 1 Axes>"
      ]
     },
     "metadata": {},
     "output_type": "display_data"
    }
   ],
   "source": [
    "# above column is in str so convert it into datetime\n",
    "data.dep_time=pd.to_datetime(data.dep_time,format='%h:%M:%S',errors='coerce')\n",
    "data[\"dep_hour\"]=data.dep_time.dt.hour\n",
    "dis=data.dep_hour.value_counts().sort_index()\n",
    "dis.plot(kind='line',marker='o')\n",
    "\n"
   ]
  },
  {
   "cell_type": "code",
   "execution_count": 421,
   "id": "e756550d-15ac-4974-8498-8b9493069cf8",
   "metadata": {},
   "outputs": [
    {
     "name": "stdout",
     "output_type": "stream",
     "text": [
      "Number of early morning flights: 101009\n"
     ]
    },
    {
     "data": {
      "text/plain": [
       "numpy.int64"
      ]
     },
     "execution_count": 421,
     "metadata": {},
     "output_type": "execute_result"
    }
   ],
   "source": [
    "# Convert dep_time to a 12-hour format and handle errors\n",
    "data['pm/am'] = pd.to_datetime(data['dep_time'], format='%I:%M %p', errors='coerce')\n",
    "\n",
    "# Extract the hour from the dep_time column\n",
    "data['hour_only'] = data['pm/am'].dt.hour\n",
    "\n",
    "# Filter flights departing between 4 AM and 9 AM\n",
    "early_morning_flights = data[(data['hour_only'] >= 4) & (data['hour_only'] <= 9)]\n",
    "\n",
    "# Count the number of early morning flights\n",
    "early_morning_count = early_morning_flights['dep_time'].count()\n",
    "\n",
    "print(f\"Number of early morning flights: {early_morning_count}\")\n",
    "\n",
    "# early_morning_count.groupby('airline')\n",
    "type(early_morning_count)\n"
   ]
  },
  {
   "cell_type": "code",
   "execution_count": 424,
   "id": "c8ab695a-a846-47eb-9334-4e27ef3c38bd",
   "metadata": {},
   "outputs": [
    {
     "data": {
      "text/plain": [
       "airline\n",
       "Vistara      10804\n",
       "Air India     5728\n",
       "Indigo        3266\n",
       "GO FIRST      2397\n",
       "AirAsia       2319\n",
       "SpiceJet      1259\n",
       "Name: count, dtype: int64"
      ]
     },
     "execution_count": 424,
     "metadata": {},
     "output_type": "execute_result"
    }
   ],
   "source": [
    "# Which airlines have the most evening flights? \n",
    "\n",
    "# let suppose evening most 9pm to 12 am\n",
    "con=data[(data['hour_only']>=21) & (data['hour_only']<=24)]\n",
    "Airline_count=con['airline'].value_counts()\n",
    "Airline_count\n"
   ]
  }
 ],
 "metadata": {
  "kernelspec": {
   "display_name": "Python 3 (ipykernel)",
   "language": "python",
   "name": "python3"
  },
  "language_info": {
   "codemirror_mode": {
    "name": "ipython",
    "version": 3
   },
   "file_extension": ".py",
   "mimetype": "text/x-python",
   "name": "python",
   "nbconvert_exporter": "python",
   "pygments_lexer": "ipython3",
   "version": "3.12.4"
  }
 },
 "nbformat": 4,
 "nbformat_minor": 5
}
